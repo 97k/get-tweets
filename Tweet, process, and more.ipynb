{
 "cells": [
  {
   "cell_type": "markdown",
   "metadata": {},
   "source": [
    "# Task #1"
   ]
  },
  {
   "cell_type": "markdown",
   "metadata": {},
   "source": [
    "- Get all the tweets and dump into json files\n",
    "- The text of the tweet.\n",
    "- Date and time of the tweet. <br>\n",
    "- The number of favorites/likes.<br>\n",
    "- The number of retweets.<br>\n",
    "- Number of Images present in Tweet. If no image returns None."
   ]
  },
  {
   "cell_type": "code",
   "execution_count": 1,
   "metadata": {
    "ExecuteTime": {
     "end_time": "2019-04-09T19:19:14.830748Z",
     "start_time": "2019-04-09T19:19:14.545832Z"
    }
   },
   "outputs": [],
   "source": [
    "import tweepy\n",
    "import pandas as pd\n",
    "pd.options.display.max_columns = None\n",
    "import warnings\n",
    "warnings.filterwarnings('ignore')\n",
    "\n",
    "import time"
   ]
  },
  {
   "cell_type": "code",
   "execution_count": 2,
   "metadata": {
    "ExecuteTime": {
     "end_time": "2019-04-09T19:19:15.105006Z",
     "start_time": "2019-04-09T19:19:15.098940Z"
    }
   },
   "outputs": [],
   "source": [
    "# CONSUMER KEYS\n",
    "consumer_key = #---pase your consumer key here--#\n",
    "consumer_secret = #---consumer key secret here--#\n",
    "\n",
    "\n",
    "# Access Tokens\n",
    "ACCESS_TOKEN = #---your access token here---# \n",
    "ACCESS_TOKEN_SECRET = #---your acess token secret here---# \n",
    "\n",
    "auth = tweepy.OAuthHandler(consumer_key, consumer_secret)\n",
    "auth.set_access_token(ACCESS_TOKEN, ACCESS_TOKEN_SECRET)\n",
    "\n",
    "api = tweepy.API(auth)"
   ]
  },
  {
   "cell_type": "code",
   "execution_count": 3,
   "metadata": {
    "ExecuteTime": {
     "end_time": "2019-04-09T19:19:15.728684Z",
     "start_time": "2019-04-09T19:19:15.690823Z"
    }
   },
   "outputs": [],
   "source": [
    "class TwitterData:\n",
    "    def __init__(self, consumer_key, consumer_secret, ACCESS_TOKEN, ACCESS_TOKEN_SECRET):\n",
    "        self.auth = tweepy.OAuthHandler(consumer_key, consumer_secret)\n",
    "        self.auth.set_access_token(ACCESS_TOKEN, ACCESS_TOKEN_SECRET)\n",
    "        # initialzing the API\n",
    "        self.api = tweepy.API(self.auth)\n",
    "        \n",
    "    def get_tweet_of(self, username):\n",
    "        \n",
    "        data = self.api.user_timeline(screen_name=username, count=200, tweet_mode='extended',)\n",
    "        recent = min(data, key = lambda x:x.id).id\n",
    "        tweets_ = data.copy()\n",
    "        count = 0\n",
    "        while len(tweets_)>0:\n",
    "            try:\n",
    "                tweets_ = api.user_timeline(screen_name=username, max_id=recent, count=200, tweet_mode='extended')\n",
    "                more_recent = min(tweets_, key=lambda x: x.id).id\n",
    "                if (recent==more_recent) or not tweets_:\n",
    "                    break\n",
    "                else:\n",
    "                    recent = more_recent\n",
    "                    data+=tweets_\n",
    "                    \n",
    "            except Exception as e:\n",
    "                print(e)\n",
    "                # In case of requsting more request than allowed in a window\n",
    "                count += 1\n",
    "                if count>2:\n",
    "                    break\n",
    "                time.sleep(120)\n",
    "                continue\n",
    "        # Dumping into JSON file\n",
    "        with open('twitter_data.json', 'w+') as f:\n",
    "            data_lst = []\n",
    "            for tweet in data:\n",
    "                data_lst.append(tweet._json)\n",
    "\n",
    "            f.write(json.dumps(data_lst))\n",
    "            \n",
    "    # Helper functino for getting image count, returns None if not found.\n",
    "    def _findImages(self, col):\n",
    "        if pd.isnull(col):\n",
    "            return\n",
    "        if 'media' in col:\n",
    "            media = col['media']\n",
    "            imgcount = 0\n",
    "            for i in media:\n",
    "                # selecting only photo type, other available types are animated_vide/gif, video etc\n",
    "                if i['type']=='photo':\n",
    "                    imgcount+=1\n",
    "            return imgcount\n",
    "        else:\n",
    "            return None\n",
    "\n",
    "    # process tweets, as sated, returns data frame, save to csv as well\n",
    "    def processTweets(self, save_csv=False):\n",
    "        data = pd.read_json('twitter_data.json')\n",
    "        columns = ['created_at', 'full_text', 'favorite_count', 'retweet_count']\n",
    "        df = data[columns]\n",
    "        df['ImageCount'] = data['extended_entities'].apply(self._findImages)\n",
    "        # safety net\n",
    "        df.drop_duplicates(inplace=True)\n",
    "        if save_csv:\n",
    "            df.to_csv('required_data.csv', index=False)\n",
    "        return df"
   ]
  },
  {
   "cell_type": "code",
   "execution_count": 4,
   "metadata": {
    "ExecuteTime": {
     "end_time": "2019-04-09T19:19:24.543935Z",
     "start_time": "2019-04-09T19:19:16.212690Z"
    }
   },
   "outputs": [],
   "source": [
    "twd = TwitterData(consumer_key, consumer_secret, ACCESS_TOKEN, ACCESS_TOKEN_SECRET)\n",
    "twd.get_tweet_of('midasIIITD')\n",
    "data = twd.processTweets()"
   ]
  },
  {
   "cell_type": "code",
   "execution_count": 5,
   "metadata": {
    "ExecuteTime": {
     "end_time": "2019-04-09T19:19:24.672839Z",
     "start_time": "2019-04-09T19:19:24.651954Z"
    }
   },
   "outputs": [
    {
     "data": {
      "text/html": [
       "<div>\n",
       "<style scoped>\n",
       "    .dataframe tbody tr th:only-of-type {\n",
       "        vertical-align: middle;\n",
       "    }\n",
       "\n",
       "    .dataframe tbody tr th {\n",
       "        vertical-align: top;\n",
       "    }\n",
       "\n",
       "    .dataframe thead th {\n",
       "        text-align: right;\n",
       "    }\n",
       "</style>\n",
       "<table border=\"1\" class=\"dataframe\">\n",
       "  <thead>\n",
       "    <tr style=\"text-align: right;\">\n",
       "      <th></th>\n",
       "      <th>created_at</th>\n",
       "      <th>full_text</th>\n",
       "      <th>favorite_count</th>\n",
       "      <th>retweet_count</th>\n",
       "      <th>ImageCount</th>\n",
       "    </tr>\n",
       "  </thead>\n",
       "  <tbody>\n",
       "    <tr>\n",
       "      <th>0</th>\n",
       "      <td>2019-04-09 16:45:07</td>\n",
       "      <td>RT @IIITDelhi: We are delighted to share that ...</td>\n",
       "      <td>0</td>\n",
       "      <td>9</td>\n",
       "      <td>NaN</td>\n",
       "    </tr>\n",
       "    <tr>\n",
       "      <th>1</th>\n",
       "      <td>2019-04-09 05:04:27</td>\n",
       "      <td>RT @Harvard: Professor Jelani Nelson founded A...</td>\n",
       "      <td>0</td>\n",
       "      <td>35</td>\n",
       "      <td>NaN</td>\n",
       "    </tr>\n",
       "    <tr>\n",
       "      <th>2</th>\n",
       "      <td>2019-04-09 05:04:11</td>\n",
       "      <td>RT @emnlp2019: For anyone interested in submit...</td>\n",
       "      <td>0</td>\n",
       "      <td>12</td>\n",
       "      <td>NaN</td>\n",
       "    </tr>\n",
       "    <tr>\n",
       "      <th>3</th>\n",
       "      <td>2019-04-08 19:38:09</td>\n",
       "      <td>RT @multimediaeval: Announcing the 2019 MediaE...</td>\n",
       "      <td>0</td>\n",
       "      <td>15</td>\n",
       "      <td>NaN</td>\n",
       "    </tr>\n",
       "    <tr>\n",
       "      <th>4</th>\n",
       "      <td>2019-04-08 07:08:12</td>\n",
       "      <td>Many Congratulations to @midasIIITD student, S...</td>\n",
       "      <td>14</td>\n",
       "      <td>2</td>\n",
       "      <td>1.0</td>\n",
       "    </tr>\n",
       "  </tbody>\n",
       "</table>\n",
       "</div>"
      ],
      "text/plain": [
       "           created_at                                          full_text  \\\n",
       "0 2019-04-09 16:45:07  RT @IIITDelhi: We are delighted to share that ...   \n",
       "1 2019-04-09 05:04:27  RT @Harvard: Professor Jelani Nelson founded A...   \n",
       "2 2019-04-09 05:04:11  RT @emnlp2019: For anyone interested in submit...   \n",
       "3 2019-04-08 19:38:09  RT @multimediaeval: Announcing the 2019 MediaE...   \n",
       "4 2019-04-08 07:08:12  Many Congratulations to @midasIIITD student, S...   \n",
       "\n",
       "   favorite_count  retweet_count  ImageCount  \n",
       "0               0              9         NaN  \n",
       "1               0             35         NaN  \n",
       "2               0             12         NaN  \n",
       "3               0             15         NaN  \n",
       "4              14              2         1.0  "
      ]
     },
     "execution_count": 5,
     "metadata": {},
     "output_type": "execute_result"
    }
   ],
   "source": [
    "data.head()"
   ]
  },
  {
   "cell_type": "code",
   "execution_count": 6,
   "metadata": {
    "ExecuteTime": {
     "end_time": "2019-04-09T19:19:24.798166Z",
     "start_time": "2019-04-09T19:19:24.793476Z"
    }
   },
   "outputs": [
    {
     "name": "stdout",
     "output_type": "stream",
     "text": [
      "342\n"
     ]
    }
   ],
   "source": [
    "total_number_of_distinct_tweets = data.full_text.nunique()\n",
    "print(total_number_of_distinct_tweets)"
   ]
  },
  {
   "cell_type": "code",
   "execution_count": null,
   "metadata": {},
   "outputs": [],
   "source": [
    "dat"
   ]
  }
 ],
 "metadata": {
  "kernelspec": {
   "display_name": "Python 3",
   "language": "python",
   "name": "python3"
  },
  "language_info": {
   "codemirror_mode": {
    "name": "ipython",
    "version": 3
   },
   "file_extension": ".py",
   "mimetype": "text/x-python",
   "name": "python",
   "nbconvert_exporter": "python",
   "pygments_lexer": "ipython3",
   "version": "3.6.6"
  },
  "toc": {
   "base_numbering": 1,
   "nav_menu": {},
   "number_sections": true,
   "sideBar": true,
   "skip_h1_title": false,
   "title_cell": "Table of Contents",
   "title_sidebar": "Contents",
   "toc_cell": false,
   "toc_position": {},
   "toc_section_display": true,
   "toc_window_display": false
  },
  "varInspector": {
   "cols": {
    "lenName": 16,
    "lenType": 16,
    "lenVar": 40
   },
   "kernels_config": {
    "python": {
     "delete_cmd_postfix": "",
     "delete_cmd_prefix": "del ",
     "library": "var_list.py",
     "varRefreshCmd": "print(var_dic_list())"
    },
    "r": {
     "delete_cmd_postfix": ") ",
     "delete_cmd_prefix": "rm(",
     "library": "var_list.r",
     "varRefreshCmd": "cat(var_dic_list()) "
    }
   },
   "types_to_exclude": [
    "module",
    "function",
    "builtin_function_or_method",
    "instance",
    "_Feature"
   ],
   "window_display": false
  }
 },
 "nbformat": 4,
 "nbformat_minor": 2
}
